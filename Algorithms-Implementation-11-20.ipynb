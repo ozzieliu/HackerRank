{
 "cells": [
  {
   "cell_type": "markdown",
   "metadata": {},
   "source": [
    "# 11 - Cavity Map"
   ]
  },
  {
   "cell_type": "raw",
   "metadata": {},
   "source": [
    "You are given a square map of size n×nn×n. Each cell of the map has a value denoting its depth. We will call a cell of the map a cavity if and only if this cell is not on the border of the map and each cell adjacent to it has strictly smaller depth. Two cells are adjacent if they have a common side (edge).\n",
    "\n",
    "You need to find all the cavities on the map and depict them with the uppercase character X.\n",
    "\n",
    "Input Format\n",
    "\n",
    "The first line contains an integer, nn, denoting the size of the map. Each of the following nn lines contains nn positive digits without spaces. Each digit (1-9) denotes the depth of the appropriate area.\n",
    "\n",
    "Constraints \n",
    "1≤n≤100\n",
    "Output Format\n",
    "\n",
    "Output n lines, denoting the resulting map. Each cavity should be replaced with character X.\n",
    "\n",
    "Sample Input\n",
    "\n",
    "4\n",
    "1112\n",
    "1912\n",
    "1892\n",
    "1234\n",
    "Sample Output\n",
    "\n",
    "1112\n",
    "1X12\n",
    "18X2\n",
    "1234\n",
    "Explanation\n",
    "\n",
    "The two cells with the depth of 9 fulfill all the conditions of the Cavity definition and have been replaced by X."
   ]
  },
  {
   "cell_type": "code",
   "execution_count": 36,
   "metadata": {
    "collapsed": false
   },
   "outputs": [
    {
     "name": "stdout",
     "output_type": "stream",
     "text": [
      "4\n",
      "1112\n",
      "1912\n",
      "1892\n",
      "1234\n"
     ]
    }
   ],
   "source": [
    "n = int(raw_input().strip())\n",
    "grid = []\n",
    "grid_i = 0\n",
    "for grid_i in xrange(n):\n",
    "    grid_t = str(raw_input().strip())\n",
    "    grid.append(grid_t)"
   ]
  },
  {
   "cell_type": "code",
   "execution_count": 38,
   "metadata": {
    "collapsed": false
   },
   "outputs": [
    {
     "data": {
      "text/plain": [
       "[[1, 1, 1, 2], [1, 9, 1, 2], [1, 8, 9, 2], [1, 2, 3, 4]]"
      ]
     },
     "execution_count": 38,
     "metadata": {},
     "output_type": "execute_result"
    }
   ],
   "source": [
    "[[int(d) for d in s] for s in grid]"
   ]
  },
  {
   "cell_type": "code",
   "execution_count": 17,
   "metadata": {
    "collapsed": true
   },
   "outputs": [],
   "source": [
    "def find_surrounding(r, c, grid):\n",
    "    neighbors = [(r+1, c), (r-1, c), (r, c+1), (r, c-1)]\n",
    "    return max([grid[r][c] for (r, c) in neighbors])"
   ]
  },
  {
   "cell_type": "code",
   "execution_count": 24,
   "metadata": {
    "collapsed": false
   },
   "outputs": [],
   "source": [
    "for row in range(n):\n",
    "    if row == 0 or row == n-1:\n",
    "        continue\n",
    "    for col in range(n):\n",
    "        if col == 0 or col == n-1:\n",
    "            continue\n",
    "        if grid[row][col] > find_surrounding(row, col, grid):\n",
    "            grid[row][col] = 'X'"
   ]
  },
  {
   "cell_type": "code",
   "execution_count": 35,
   "metadata": {
    "collapsed": false,
    "scrolled": true
   },
   "outputs": [
    {
     "name": "stdout",
     "output_type": "stream",
     "text": [
      "1112\n",
      "1X12\n",
      "18X2\n",
      "1234\n"
     ]
    }
   ],
   "source": [
    "for r in grid:\n",
    "    print ''.join(str(c) for c in r)"
   ]
  },
  {
   "cell_type": "markdown",
   "metadata": {},
   "source": [
    "# 12 - Caesar Cipher"
   ]
  },
  {
   "cell_type": "raw",
   "metadata": {},
   "source": [
    "Julius Caesar protected his confidential information by encrypting it in a cipher. Caesar's cipher rotated every letter in a string by a fixed number, KK, making it unreadable by his enemies. Given a string, SS, and a number, KK, encrypt SS and print the resulting string.\n",
    "\n",
    "Note: The cipher only encrypts letters; symbols, such as -, remain unencrypted.\n",
    "\n",
    "Input Format\n",
    "\n",
    "The first line contains an integer, NN, which is the length of the unencrypted string. \n",
    "The second line contains the unencrypted string, SS. \n",
    "The third line contains the integer encryption key, KK, which is the number of letters to rotate.\n",
    "\n",
    "Constraints \n",
    "1≤N≤1001≤N≤100 \n",
    "0≤K≤1000≤K≤100 \n",
    "SS is a valid ASCII string and doesn't contain any spaces.\n",
    "\n",
    "Output Format\n",
    "\n",
    "For each test case, print the encoded string.\n",
    "\n",
    "Sample Input\n",
    "\n",
    "11\n",
    "middle-Outz\n",
    "2\n",
    "Sample Output\n",
    "\n",
    "okffng-Qwvb\n",
    "Explanation\n",
    "\n",
    "Each unencrypted letter is replaced with the letter occurring KK spaces after it when listed alphabetically. Think of the alphabet as being both case-sensitive and circular; if KK rotates past the end of the alphabet, it loops back to the beginning (i.e.: the letter after zz is aa, and the letter after ZZ is AA).\n",
    "\n",
    "Selected Examples: \n",
    "mm (ASCII 109) becomes oo (ASCII 111). \n",
    "ii (ASCII 105) becomes kk (ASCII 107). \n",
    "−− remains the same, as symbols are not encoded. \n",
    "OO (ASCII 79) becomes QQ (ASCII 81). \n",
    "zz (ASCII 122) becomes bb (ASCII 98); because zz is the last letter of the alphabet, aa (ASCII 97) is the next letter after it in lower-case rotation."
   ]
  },
  {
   "cell_type": "code",
   "execution_count": 73,
   "metadata": {
    "collapsed": false
   },
   "outputs": [
    {
     "name": "stdout",
     "output_type": "stream",
     "text": [
      "okffng-Qwvb\n"
     ]
    }
   ],
   "source": [
    "k = 2\n",
    "s = 'middle-Outz'\n",
    "code = []\n",
    "for letter in s:\n",
    "    if letter.isupper():\n",
    "        code.append(chr(((ord(letter)+k)-65)%26 + 65))\n",
    "    elif letter.islower():\n",
    "        code.append(chr(((ord(letter)+k)-97)%26 + 97))\n",
    "    else:\n",
    "        code.append(letter)\n",
    "        \n",
    "print ''.join(code)"
   ]
  },
  {
   "cell_type": "markdown",
   "metadata": {},
   "source": [
    "# 13 - Library Fine "
   ]
  },
  {
   "cell_type": "raw",
   "metadata": {},
   "source": [
    "Your local library needs your help! Given the expected and actual return dates for a library book, create a program that calculates the fine (if any). The fee structure is as follows:\n",
    "\n",
    "If the book is returned on or before the expected return date, no fine will be charged (i.e.: fine=0)fine=0).\n",
    "\n",
    "If the book is returned after the expected return day but still within the same calendar month and year as the expected return date, fine=15 Hackos × (the number of days late)fine=15 Hackos × (the number of days late).\n",
    "\n",
    "If the book is returned after the expected return month but still within the same calendar year as the expected return date, the fine=500 Hackos × (the number of months late)fine=500 Hackos × (the number of months late).\n",
    "\n",
    "If the book is returned after the calendar year in which it was expected, there is a fixed fine of 10000 Hackos10000 Hackos.\n",
    "\n",
    "Input:\n",
    "9 6 2015\n",
    "6 6 2015\n",
    "\n",
    "Output:\n",
    "45"
   ]
  },
  {
   "cell_type": "code",
   "execution_count": 74,
   "metadata": {
    "collapsed": false
   },
   "outputs": [
    {
     "name": "stdout",
     "output_type": "stream",
     "text": [
      "9 6 2015\n",
      "6 6 2015\n"
     ]
    }
   ],
   "source": [
    "## Actual returned\n",
    "d1,m1,y1 = raw_input().strip().split(' ')\n",
    "d1,m1,y1 = [int(d1),int(m1),int(y1)]\n",
    "## Expected return due date\n",
    "d2,m2,y2 = raw_input().strip().split(' ')\n",
    "d2,m2,y2 = [int(d2),int(m2),int(y2)]"
   ]
  },
  {
   "cell_type": "code",
   "execution_count": 121,
   "metadata": {
    "collapsed": false
   },
   "outputs": [
    {
     "name": "stdout",
     "output_type": "stream",
     "text": [
      "0\n"
     ]
    }
   ],
   "source": [
    "# My own test cases\n",
    "d1, m1, y1 = (2, 7, 2014)\n",
    "d2, m2, y2 = (1, 1, 2015)\n",
    "\n",
    "fine = 0\n",
    "\n",
    "if y1 > y2:\n",
    "    fine = 10000\n",
    "elif y1 < y2:\n",
    "    fine = 0\n",
    "else:\n",
    "    if m1 > m2:\n",
    "        fine = (m1-m2)*500\n",
    "    elif m1 < m2:\n",
    "        fine = 0\n",
    "    else:\n",
    "        if d1 > d2:\n",
    "            fine = (d1-d2)*15\n",
    "            \n",
    "print fine"
   ]
  },
  {
   "cell_type": "markdown",
   "metadata": {},
   "source": [
    "# 14 - Manasa and Stones"
   ]
  },
  {
   "cell_type": "raw",
   "metadata": {},
   "source": [
    "Manasa is out on a hike with friends. She finds a trail of stones with numbers on them. She starts following the trail and notices that two consecutive stones have a difference of either aa or bb. Legend has it that there is a treasure trove at the end of the trail and if Manasa can guess the value of the last stone, the treasure would be hers. Given that the number on the first stone was 00, find all the possible values for the number on the last stone.\n",
    "\n",
    "Note: The numbers on the stones are in increasing order.\n",
    "\n",
    "Input Format \n",
    "The first line contains an integer TT, i.e. the number of test cases. TT test cases follow; each has 3 lines. The first line contains nn (the number of stones). The second line contains aa, and the third line contains bb.\n",
    "\n",
    "Output Format \n",
    "Space-separated list of numbers which are the possible values of the last stone in increasing order.\n",
    "\n",
    "Constraints \n",
    "1≤T≤10\n",
    "1≤n,a,b≤10^3\n",
    "\n",
    "Sample Input\n",
    "\n",
    "2\n",
    "3 \n",
    "1\n",
    "2\n",
    "4\n",
    "10\n",
    "100\n",
    "Sample Output\n",
    "\n",
    "2 3 4 \n",
    "30 120 210 300 "
   ]
  },
  {
   "cell_type": "code",
   "execution_count": 144,
   "metadata": {
    "collapsed": false
   },
   "outputs": [
    {
     "name": "stdout",
     "output_type": "stream",
     "text": [
      "8 9 10 11 12\n"
     ]
    }
   ],
   "source": [
    "n = 5\n",
    "a = 2\n",
    "b = 3\n",
    "\n",
    "results = set()\n",
    "for x in range(n):\n",
    "     results.add(x*a+(n-x-1)*b)\n",
    "\n",
    "print ' '.join([str(d) for d in sorted(results)])"
   ]
  },
  {
   "cell_type": "markdown",
   "metadata": {},
   "source": [
    "# 15 - ACM ICPC Team\n",
    "why that challenge name?"
   ]
  },
  {
   "cell_type": "raw",
   "metadata": {},
   "source": [
    "10101\n",
    "11100\n",
    "11010\n",
    "00101"
   ]
  },
  {
   "cell_type": "code",
   "execution_count": 2,
   "metadata": {
    "collapsed": true
   },
   "outputs": [],
   "source": [
    "N = 4\n",
    "M = 5\n",
    "topic = ['10101',\n",
    "        '11100',\n",
    "        '11010',\n",
    "        '00101']"
   ]
  },
  {
   "cell_type": "code",
   "execution_count": 6,
   "metadata": {
    "collapsed": true
   },
   "outputs": [],
   "source": [
    "from itertools import combinations as combo"
   ]
  },
  {
   "cell_type": "code",
   "execution_count": 23,
   "metadata": {
    "collapsed": false
   },
   "outputs": [
    {
     "name": "stdout",
     "output_type": "stream",
     "text": [
      "4 5\n",
      "10101\n",
      "11100\n",
      "11010\n",
      "00101\n",
      "5 2\n"
     ]
    }
   ],
   "source": [
    "def bit_or(a, b, M):\n",
    "    return [a[i]|b[i] for i in range(M)]\n",
    "\n",
    "n,m = [int(d) for d in raw_input().strip().split(' ')]\n",
    "\n",
    "topic = []\n",
    "\n",
    "for topic_i in xrange(n):\n",
    "    topic_t = [int(d) for d in str(raw_input().strip())]\n",
    "    topic.append(topic_t)\n",
    "\n",
    "max_topic = 0\n",
    "max_teams = 0\n",
    "\n",
    "for (x,y) in combo(range(N), 2):\n",
    "#     print topic[x], topic[y]\n",
    "    \n",
    "    t = bit_or(topic[x], topic[y], M).count(1)\n",
    "    \n",
    "    if t > max_topic:\n",
    "        max_topic = t\n",
    "        max_teams = 0\n",
    "    \n",
    "    if t == max_topic:\n",
    "        max_teams += 1\n",
    "    \n",
    "print max_topic, max_teams"
   ]
  },
  {
   "cell_type": "code",
   "execution_count": null,
   "metadata": {
    "collapsed": true
   },
   "outputs": [],
   "source": []
  }
 ],
 "metadata": {
  "kernelspec": {
   "display_name": "Python 2",
   "language": "python",
   "name": "python2"
  },
  "language_info": {
   "codemirror_mode": {
    "name": "ipython",
    "version": 2
   },
   "file_extension": ".py",
   "mimetype": "text/x-python",
   "name": "python",
   "nbconvert_exporter": "python",
   "pygments_lexer": "ipython2",
   "version": "2.7.11"
  }
 },
 "nbformat": 4,
 "nbformat_minor": 0
}
