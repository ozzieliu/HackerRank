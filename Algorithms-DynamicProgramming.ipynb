{
 "cells": [
  {
   "cell_type": "markdown",
   "metadata": {},
   "source": [
    "# The Maximum Subarray"
   ]
  },
  {
   "cell_type": "raw",
   "metadata": {},
   "source": [
    "Given an array A={a1,a2,…,aN}A={a1,a2,…,aN} of NN elements, find the maximum possible sum of a\n",
    "\n",
    "Contiguous subarray\n",
    "Non-contiguous (not necessarily contiguous) subarray.\n",
    "Empty subarrays/subsequences should not be considered.\n",
    "\n",
    "Input Format\n",
    "\n",
    "First line of the input has an integer TT. TT cases follow. \n",
    "Each test case begins with an integer NN. In the next line, NN integers follow representing the elements of array AA.\n",
    "\n",
    "Constraints:\n",
    "\n",
    "1≤T≤10\n",
    "1≤N≤105\n",
    "−104≤ai≤104\n",
    "The subarray and subsequences you consider should have at least one element.\n",
    "\n",
    "Output Format\n",
    "\n",
    "Two, space separated, integers denoting the maximum contiguous and non-contiguous subarray. At least one integer should be selected and put into the subarrays (this may be required in cases where all elements are negative).\n",
    "\n",
    "Sample Input\n",
    "\n",
    "2 \n",
    "4 \n",
    "1 2 3 4\n",
    "6\n",
    "2 -1 2 3 4 -5\n",
    "Sample Output\n",
    "\n",
    "10 10\n",
    "10 11\n",
    "Explanation\n",
    "\n",
    "In the first case: \n",
    "The max sum for both contiguous and non-contiguous elements is the sum of ALL the elements (as they are all positive).\n",
    "\n",
    "In the second case: \n",
    "[2 -1 2 3 4] --> This forms the contiguous sub-array with the maximum sum. \n",
    "For the max sum of a not-necessarily-contiguous group of elements, simply add all the positive elements."
   ]
  },
  {
   "cell_type": "code",
   "execution_count": 19,
   "metadata": {
    "collapsed": true
   },
   "outputs": [],
   "source": [
    "# array = [1, 2, 3, 4, -3, 10]\n",
    "# array = [2, -1, 2, 3, 4, -5]\n",
    "array = [-1, 4, -2, -3, -4, -5]"
   ]
  },
  {
   "cell_type": "code",
   "execution_count": 21,
   "metadata": {
    "collapsed": false
   },
   "outputs": [
    {
     "name": "stdout",
     "output_type": "stream",
     "text": [
      "4 4\n"
     ]
    }
   ],
   "source": [
    "largest = None\n",
    "current_sum = 0\n",
    "for num in array:\n",
    "    current_sum += num\n",
    "    if current_sum > largest:\n",
    "        largest = current_sum\n",
    "    if current_sum < 0:\n",
    "        current_sum = 0\n",
    "        \n",
    "# print largest\n",
    "\n",
    "non_cont = sum([d for d in array if d > 0])\n",
    "if not non_cont:\n",
    "    non_cont = max(array)\n",
    "print largest, non_cont"
   ]
  },
  {
   "cell_type": "code",
   "execution_count": null,
   "metadata": {
    "collapsed": true
   },
   "outputs": [],
   "source": []
  }
 ],
 "metadata": {
  "kernelspec": {
   "display_name": "Python 2",
   "language": "python",
   "name": "python2"
  },
  "language_info": {
   "codemirror_mode": {
    "name": "ipython",
    "version": 2
   },
   "file_extension": ".py",
   "mimetype": "text/x-python",
   "name": "python",
   "nbconvert_exporter": "python",
   "pygments_lexer": "ipython2",
   "version": "2.7.11"
  }
 },
 "nbformat": 4,
 "nbformat_minor": 0
}
