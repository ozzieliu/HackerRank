{
 "cells": [
  {
   "cell_type": "markdown",
   "metadata": {},
   "source": [
    "## Angry Professor"
   ]
  },
  {
   "cell_type": "raw",
   "metadata": {},
   "source": [
    "A Discrete Mathematics professor has a class of NN students. Frustrated with their lack of discipline, he decides to cancel class if fewer than KK students are present when class starts.\n",
    "\n",
    "Given the arrival time of each student, determine if the class is canceled.\n",
    "\n",
    "Input Format\n",
    "\n",
    "The first line of input contains TT, the number of test cases.\n",
    "\n",
    "Each test case consists of two lines. The first line has two space-separated integers, NN (students in the class) and KK (the cancelation threshold). \n",
    "The second line contains NN space-separated integers (a1,a2,…,aNa1,a2,…,aN) describing the arrival times for each student.\n",
    "\n",
    "Note: Non-positive arrival times (ai≤0ai≤0) indicate the student arrived early or on time; positive arrival times (ai>0ai>0) indicate the student arrived aiai minutes late.\n",
    "\n",
    "Output Format\n",
    "\n",
    "For each test case, print the word YES if the class is canceled or NO if it is not.\n",
    "\n",
    "Constraints\n",
    "\n",
    "1≤T≤101≤T≤10\n",
    "1≤N≤10001≤N≤1000\n",
    "1≤K≤N1≤K≤N\n",
    "−100≤ai≤100,where i∈[1,N]−100≤ai≤100,where i∈[1,N]\n",
    "Note \n",
    "If a student arrives exactly on time (ai=0)(ai=0), the student is considered to have entered before the class started.\n",
    "\n",
    "Sample Input\n",
    "\n",
    "2\n",
    "4 3\n",
    "-1 -3 4 2\n",
    "4 2\n",
    "0 -1 2 1\n",
    "Sample Output\n",
    "\n",
    "YES\n",
    "NO"
   ]
  },
  {
   "cell_type": "code",
   "execution_count": null,
   "metadata": {
    "collapsed": false
   },
   "outputs": [],
   "source": [
    "t = int(raw_input().strip())\n",
    "for a0 in xrange(t):\n",
    "    n,k = raw_input().strip().split(' ')\n",
    "    n,k = [int(n),int(k)]\n",
    "    a = map(int,raw_input().strip().split(' '))\n",
    "    \n",
    "    if len([s for s in a if s <= 0]) >= k:\n",
    "        print 'NO'\n",
    "    else:\n",
    "        print 'YES'"
   ]
  },
  {
   "cell_type": "markdown",
   "metadata": {},
   "source": [
    "## Sherlock and the Beast"
   ]
  },
  {
   "cell_type": "raw",
   "metadata": {},
   "source": [
    "Sherlock Holmes suspects his archenemy, Professor Moriarty, is once again plotting something diabolical. Sherlock's companion, Dr. Watson, suggests Moriarty may be responsible for MI6's recent issues with their supercomputer, The Beast.\n",
    "\n",
    "Shortly after resolving to investigate, Sherlock receives a note from Moriarty boasting about infecting The Beast with a virus; however, he also gives him a clue—a number, N. Sherlock determines the key to removing the virus is to find the largest Decent Number having NN digits.\n",
    "\n",
    "A Decent Number has the following properties:\n",
    "\n",
    "Its digits can only be 3's and/or 5's.\n",
    "The number of 3's it contains is divisible by 5.\n",
    "The number of 5's it contains is divisible by 3.\n",
    "If there are more than one such number, we pick the largest one.\n",
    "Moriarty's virus shows a clock counting down to The Beast's destruction, and time is running out fast. Your task is to help Sherlock find the key before The Beast is destroyed!\n",
    "\n",
    "Constraints\n",
    "1≤T≤20\n",
    "1≤N≤100000\n",
    "\n",
    "\n",
    "Input Format\n",
    "\n",
    "The first line is an integer, TT, denoting the number of test cases.\n",
    "\n",
    "The TT subsequent lines each contain an integer, NN, detailing the number of digits in the number.\n",
    "\n",
    "Output Format\n",
    "\n",
    "Print the largest Decent Number having NN digits; if no such number exists, tell Sherlock by printing -1.\n",
    "\n",
    "Sample Input\n",
    "\n",
    "4\n",
    "1\n",
    "3\n",
    "5\n",
    "11\n",
    "Sample Output\n",
    "\n",
    "-1\n",
    "555\n",
    "33333\n",
    "55555533333"
   ]
  },
  {
   "cell_type": "code",
   "execution_count": null,
   "metadata": {
    "collapsed": false
   },
   "outputs": [],
   "source": [
    "\"\"\"\n",
    "Using Euclidean algorithm to find the linear combination of 3 and 5 and print the result, with 5s first\n",
    "\"\"\"\n",
    "\n",
    "N = 11\n",
    "\n",
    "z=N\n",
    "while(z%3!=0): \n",
    "    z-=5 \n",
    "    \n",
    "if(z<0): \n",
    "    print '-1' \n",
    "else: \n",
    "    print z*'5'+(y-z)*'3'"
   ]
  },
  {
   "cell_type": "markdown",
   "metadata": {},
   "source": [
    "## Utopian Tree"
   ]
  },
  {
   "cell_type": "raw",
   "metadata": {},
   "source": [
    "The Utopian Tree goes through 2 cycles of growth every year. Each spring, it doubles in height. Each summer, its height increases by 1 meter.\n",
    "\n",
    "Laura plants a Utopian Tree sapling with a height of 1 meter at the onset of spring. How tall will her tree be after NN growth cycles?\n",
    "\n",
    "Input Format\n",
    "\n",
    "The first line contains an integer, TT, the number of test cases. \n",
    "TT subsequent lines each contain an integer, NN, denoting the number of cycles for that test case.\n",
    "\n",
    "Constraints \n",
    "1≤T≤101≤T≤10 \n",
    "0≤N≤600≤N≤60\n",
    "Output Format\n",
    "\n",
    "For each test case, print the height of the Utopian Tree after NN cycles. Each height must be printed on a new line.\n",
    "\n",
    "Sample Input\n",
    "\n",
    "3\n",
    "0\n",
    "1\n",
    "4\n",
    "Sample Output\n",
    "\n",
    "1\n",
    "2\n",
    "7"
   ]
  },
  {
   "cell_type": "code",
   "execution_count": null,
   "metadata": {
    "collapsed": false
   },
   "outputs": [],
   "source": [
    "t = int(raw_input().strip())\n",
    "for a0 in xrange(t):\n",
    "    n = int(raw_input().strip())\n",
    "    \n",
    "    h = 1\n",
    "    \n",
    "    if n == 0:\n",
    "        print h\n",
    "    else:\n",
    "        for cycle in range(1, n+1):\n",
    "            if cycle % 2:\n",
    "                h *= 2\n",
    "            else:\n",
    "                h += 1\n",
    "        print h"
   ]
  },
  {
   "cell_type": "markdown",
   "metadata": {},
   "source": [
    "## Find Digits"
   ]
  },
  {
   "cell_type": "raw",
   "metadata": {},
   "source": [
    "Given an integer, NN, traverse its digits (dd1,dd2,...,ddn) and determine how many digits evenly divide NN (i.e.: count the number of times NN divided by each digit ddi has a remainder of 00). Print the number of evenly divisible digits.\n",
    "\n",
    "Note: Each digit is considered to be unique, so each occurrence of the same evenly divisible digit should be counted (i.e.: for N=111N=111, the answer is 33).\n",
    "\n",
    "Input Format\n",
    "\n",
    "The first line is an integer, TT, indicating the number of test cases. \n",
    "The TT subsequent lines each contain an integer, NN.\n",
    "\n",
    "Constraints \n",
    "1≤T≤151≤T≤15 \n",
    "0<N<1090<N<109\n",
    "Output Format\n",
    "\n",
    "For every test case, count and print (on a new line) the number of digits in NN that are able to evenly divide NN.\n",
    "\n",
    "Sample Input\n",
    "\n",
    "2\n",
    "12\n",
    "1012\n",
    "Sample Output\n",
    "\n",
    "2\n",
    "3"
   ]
  },
  {
   "cell_type": "code",
   "execution_count": null,
   "metadata": {
    "collapsed": false
   },
   "outputs": [],
   "source": [
    "t = int(raw_input().strip())\n",
    "for a0 in xrange(t):\n",
    "    n = int(raw_input().strip())\n",
    "    \n",
    "    digits = [int(d) for d in str(n)]\n",
    "    \n",
    "    answer = 0\n",
    "\n",
    "    for d in digits:\n",
    "        if d == 0:\n",
    "            continue\n",
    "        elif n % d == 0:\n",
    "            answer += 1\n",
    "    print answer"
   ]
  },
  {
   "cell_type": "markdown",
   "metadata": {},
   "source": [
    "## Sherlock and Squares"
   ]
  },
  {
   "cell_type": "raw",
   "metadata": {},
   "source": [
    "Watson gives two integers (A and B) to Sherlock and asks if he can count the number of square integers between A and B (both inclusive).\n",
    "\n",
    "Note: A square integer is an integer which is the square of any integer. For example, 1, 4, 9, and 16 are some of the square integers as they are squares of 1, 2, 3, and 4, respectively.\n",
    "\n",
    "Input Format \n",
    "The first line contains T, the number of test cases. T test cases follow, each in a new line. \n",
    "Each test case contains two space-separated integers denoting A and B.\n",
    "\n",
    "Output Format \n",
    "For each test case, print the required answer in a new line.\n",
    "\n",
    "Constraints \n",
    "1≤T≤100\n",
    "1≤A≤B≤109\n",
    "\n",
    "Sample Input\n",
    "\n",
    "2\n",
    "3 9\n",
    "17 24\n",
    "Sample output\n",
    "\n",
    "2\n",
    "0"
   ]
  },
  {
   "cell_type": "code",
   "execution_count": null,
   "metadata": {
    "collapsed": false
   },
   "outputs": [],
   "source": [
    "from math import sqrt, ceil, floor\n",
    "\n",
    "A, B = [int(d) for d in raw_input().split()]\n",
    "print len(range(int(ceil(sqrt(A))), int(floor(sqrt(B)))+1))"
   ]
  },
  {
   "cell_type": "markdown",
   "metadata": {},
   "source": [
    "## Service Lane "
   ]
  },
  {
   "cell_type": "raw",
   "metadata": {},
   "source": [
    "Calvin is driving his favorite vehicle on the 101 freeway. He notices that the check engine light of his vehicle is on, and he wants to service it immediately to avoid any risks. Luckily, a service lane runs parallel to the highway. The length of the service lane is NN units. The service lane consists of NN segments of equal length and different width.\n",
    "\n",
    "Calvin can enter to and exit from any segment. Let's call the entry segment as index ii and the exit segment as index jj. Assume that the exit segment lies after the entry segment (i≤ji≤j) and 0≤i0≤i. Calvin has to pass through all segments from index ii to index jj (both inclusive).\n",
    "\n",
    "Paradise Highway\n",
    "\n",
    "Calvin has three types of vehicles - bike, car, and truck - represented by 11, 22 and 33, respectively. These numbers also denote the width of the vehicle.\n",
    "\n",
    "You are given an array widthwidth of length NN, where width[k]width[k] represents the width of the kkth segment of the service lane. It is guaranteed that while servicing he can pass through at most 10001000 segments, including the entry and exit segments.\n",
    "\n",
    "If width[k]=1width[k]=1, only the bike can pass through the kkth segment.\n",
    "If width[k]=2width[k]=2, the bike and the car can pass through the kkth segment.\n",
    "If width[k]=3width[k]=3, all three vehicles can pass through the kkth segment.\n",
    "Given the entry and exit point of Calvin's vehicle in the service lane, output the type of the largest vehicle which can pass through the service lane (including the entry and exit segments).\n",
    "\n",
    "Input Format\n",
    "\n",
    "The first line of input contains two integers, NN and TT, where NN denotes the length of the freeway and TT the number of test cases. The next line has NN space-separated integers which represent the widthwidth array.\n",
    "\n",
    "TT test cases follow. Each test case contains two integers, ii and jj, where ii is the index of the segment through which Calvin enters the service lane and jj is the index of the lane segment through which he exits.\n",
    "\n",
    "Constraints \n",
    "2≤N≤1000002≤N≤100000 \n",
    "1≤T≤10001≤T≤1000 \n",
    "0≤i<j<N0≤i<j<N \n",
    "2≤j−i+1≤min(N,1000)2≤j−i+1≤min(N,1000) \n",
    "1≤width[k]≤3,where 0≤k<N1≤width[k]≤3,where 0≤k<N\n",
    "Output Format\n",
    "\n",
    "For each test case, print the number that represents the largest vehicle type that can pass through the service lane.\n",
    "\n",
    "Note: Calvin has to pass through all segments from index ii to index jj (both inclusive).\n",
    "\n",
    "Sample Input\n",
    "\n",
    "8 5\n",
    "2 3 1 2 3 2 3 3\n",
    "0 3\n",
    "4 6\n",
    "6 7\n",
    "3 5\n",
    "0 7\n",
    "Sample Output\n",
    "\n",
    "1\n",
    "2\n",
    "3\n",
    "2\n",
    "1\n",
    "Explanation\n",
    "\n",
    "Below is the representation of the lane:\n",
    "\n",
    "   |HIGHWAY|Lane|    ->    Width\n",
    "\n",
    "0: |       |--|            2\n",
    "1: |       |---|           3\n",
    "2: |       |-|             1\n",
    "3: |       |--|            2\n",
    "4: |       |---|           3\n",
    "5: |       |--|            2\n",
    "6: |       |---|           3\n",
    "7: |       |---|           3\n",
    "(0, 3): Because width[2] = 1, only the bike can pass through it.\n",
    "(4, 6): Here the largest allowed vehicle which can pass through the 5th segment is the car and for the 4th and 6th segment it's the truck. Hence the largest vehicle allowed in these segments is a car.\n",
    "(6, 7): In this example, the vehicle enters at the 6th segment and exits at the 7th segment. Both segments allow even trucks to pass through them. Hence the answer is 3.\n",
    "(3, 5): width[3] = width[5] = 2. While the 4th segment allows the truck, the 3rd and 5th allow up to a car. So 2 will be the answer here.\n",
    "(0, 7): The bike is the only vehicle which can pass through the 2nd segment, which limits the strength of the whole lane to 1."
   ]
  },
  {
   "cell_type": "code",
   "execution_count": null,
   "metadata": {
    "collapsed": false
   },
   "outputs": [],
   "source": [
    "n,t = raw_input().strip().split(' ')\n",
    "n,t = [int(n),int(t)]\n",
    "width = map(int,raw_input().strip().split(' '))\n",
    "for a0 in xrange(t):\n",
    "    i,j = raw_input().strip().split(' ')\n",
    "    i,j = [int(i),int(j)]\n",
    "    print min(width[i:j+1])"
   ]
  },
  {
   "cell_type": "markdown",
   "metadata": {
    "collapsed": true
   },
   "source": [
    "# Chocolate Feast"
   ]
  },
  {
   "cell_type": "raw",
   "metadata": {},
   "source": [
    "Little Bob loves chocolate, and he goes to a store with $N$N in his pocket. The price of each chocolate is $C$C. The store offers a discount: for every MM wrappers he gives to the store, he gets one chocolate for free. How many chocolates does Bob get to eat?\n",
    "\n",
    "Input Format: \n",
    "The first line contains the number of test cases, TT. \n",
    "TT lines follow, each of which contains three integers, NN, CC, and MM.\n",
    "\n",
    "Output Format: \n",
    "Print the total number of chocolates Bob eats.\n",
    "\n",
    "Constraints: \n",
    "1≤T≤1000\n",
    "2≤N≤105\n",
    "1≤C≤N \n",
    "2≤M≤N\n",
    "\n",
    "Sample input\n",
    "\n",
    "3\n",
    "10 2 5\n",
    "12 4 4\n",
    "6 2 2\n",
    "Sample Output\n",
    "\n",
    "6\n",
    "3\n",
    "5"
   ]
  },
  {
   "cell_type": "code",
   "execution_count": null,
   "metadata": {
    "collapsed": false
   },
   "outputs": [],
   "source": [
    "T = int(raw_input())\n",
    "for case in range(T):\n",
    "    N, C, M = [int(d) for d in raw_input().split()]\n",
    "\n",
    "    candy = 0\n",
    "    wrappers = 0\n",
    "\n",
    "    ## Initial purchase\n",
    "    candy = N / C\n",
    "    wrappers = candy\n",
    "    # print candy, wrappers\n",
    "\n",
    "    ## Exchanges\n",
    "    while wrappers >= M:\n",
    "        more_candy = wrappers / M\n",
    "        wrappers -= more_candy * M\n",
    "        candy += more_candy\n",
    "        wrappers += more_candy\n",
    "\n",
    "    print candy\n"
   ]
  },
  {
   "cell_type": "markdown",
   "metadata": {
    "collapsed": true
   },
   "source": [
    "# Lisa's Special Workbook"
   ]
  },
  {
   "cell_type": "raw",
   "metadata": {},
   "source": [
    "Lisa just got a new math workbook. A workbook contains exercise problems, grouped into chapters.\n",
    "\n",
    "There are nn chapters in Lisa's workbook, numbered from 11 to nn.\n",
    "The ii-th chapter has titi problems, numbered from 11 to titi.\n",
    "Each page can hold up to kk problems. There are no empty pages or unnecessary spaces, so only the last page of a chapter may contain fewer than kk problems.\n",
    "Each new chapter starts on a new page, so a page will never contain problems from more than one chapter.\n",
    "The page number indexing starts at 11.\n",
    "Lisa believes a problem to be special if its index (within a chapter) is the same as the page number where it's located. Given the details for Lisa's workbook, can you count its number of special problems?\n",
    "\n",
    "Note: See the diagram in the Explanation section for more details.\n",
    "\n",
    "Input Format\n",
    "\n",
    "The first line contains two integers nn and kk — the number of chapters and the maximum number of problems per page respectively. \n",
    "The second line contains nn integers t1,t2,…,tnt1,t2,…,tn, where titi denotes the number of problems in the ii-th chapter.\n",
    "\n",
    "Constraints\n",
    "\n",
    "1≤n,k,ti≤1001≤n,k,ti≤100\n",
    "Output Format\n",
    "\n",
    "Print the number of special problems in Lisa's workbook.\n",
    "\n",
    "Sample Input\n",
    "\n",
    "5 3  \n",
    "4 2 6 1 10\n",
    "Sample Output\n",
    "\n",
    "4"
   ]
  },
  {
   "cell_type": "code",
   "execution_count": 5,
   "metadata": {
    "collapsed": false
   },
   "outputs": [
    {
     "name": "stdout",
     "output_type": "stream",
     "text": [
      "5 3\n",
      "4 2 6 1 10\n",
      "4\n"
     ]
    }
   ],
   "source": [
    "from math import ceil\n",
    "\n",
    "n, k = [int(d) for d in raw_input().split()]\n",
    "t = [int(d) for d in raw_input().split()]\n",
    "\n",
    "problem_set = []\n",
    "page_num = 0\n",
    "\n",
    "for chapter_number, number_of_problems in enumerate(t):\n",
    "    \n",
    "    pages_required = int(ceil(number_of_problems / float(k)))\n",
    "    \n",
    "    for p in range(number_of_problems):\n",
    "        if p % k == 0:\n",
    "            page_num += 1\n",
    "        problem_set.append([page_num, chapter_number+1, p+1])\n",
    "\n",
    "print len([(pg, ch, pr) for (pg, ch, pr) in problem_set if pg == pr])\n"
   ]
  },
  {
   "cell_type": "markdown",
   "metadata": {},
   "source": [
    "# Grid Search"
   ]
  },
  {
   "cell_type": "raw",
   "metadata": {},
   "source": [
    "10 10\n",
    "7283455864\n",
    "6731158619\n",
    "8988242643\n",
    "3830589324\n",
    "2229505813\n",
    "5633845374\n",
    "6473530293\n",
    "7053106601\n",
    "0834282956\n",
    "4607924137\n",
    "3 4\n",
    "9505\n",
    "3845\n",
    "3530"
   ]
  },
  {
   "cell_type": "code",
   "execution_count": 49,
   "metadata": {
    "collapsed": false
   },
   "outputs": [],
   "source": [
    "# R, C = [int(d) for d in '10 10'.split()]\n",
    "R, C = (10, 10)\n",
    "G = \"\"\"7283455864\n",
    "6731158619\n",
    "8988242643\n",
    "3830589324\n",
    "2229505813\n",
    "5633845374\n",
    "6473530293\n",
    "7053106601\n",
    "0834282956\n",
    "4607924137\"\"\".split()\n",
    "\n",
    "r, c = (3, 4)\n",
    "g = \"\"\"9505\n",
    "3845\n",
    "3530\"\"\".split()"
   ]
  },
  {
   "cell_type": "code",
   "execution_count": 50,
   "metadata": {
    "collapsed": false
   },
   "outputs": [
    {
     "name": "stdout",
     "output_type": "stream",
     "text": [
      "YES\n"
     ]
    }
   ],
   "source": [
    "match_row = None\n",
    "for row, numbers in enumerate(G):\n",
    "    if g[0] in numbers:\n",
    "#         print numbers\n",
    "        match_row = row\n",
    "        break\n",
    "        \n",
    "# print match_row\n",
    "\n",
    "match = True\n",
    "for row, numbers in enumerate(g[1:]):\n",
    "    match *= numbers in G[match_row+row+1]\n",
    "    \n",
    "if match:\n",
    "    print 'YES'\n",
    "else:\n",
    "    print 'NO'"
   ]
  },
  {
   "cell_type": "code",
   "execution_count": null,
   "metadata": {
    "collapsed": true
   },
   "outputs": [],
   "source": []
  }
 ],
 "metadata": {
  "kernelspec": {
   "display_name": "Python 2",
   "language": "python",
   "name": "python2"
  },
  "language_info": {
   "codemirror_mode": {
    "name": "ipython",
    "version": 2
   },
   "file_extension": ".py",
   "mimetype": "text/x-python",
   "name": "python",
   "nbconvert_exporter": "python",
   "pygments_lexer": "ipython2",
   "version": "2.7.11"
  }
 },
 "nbformat": 4,
 "nbformat_minor": 0
}
