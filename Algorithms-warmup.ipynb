{
 "cells": [
  {
   "cell_type": "markdown",
   "metadata": {},
   "source": [
    "# Hacker Rank Algorithms "
   ]
  },
  {
   "cell_type": "markdown",
   "metadata": {},
   "source": [
    "## Simple Array Sum"
   ]
  },
  {
   "cell_type": "raw",
   "metadata": {},
   "source": [
    "Given an array of N integers, can you find the sum of its elements?\n",
    "\n",
    "Input Format\n",
    "\n",
    "The first line contains an integer, NN, denoting the size of the array. \n",
    "The second line contains NN space-separated integers representing the array's elements.\n",
    "\n",
    "Output Format\n",
    "\n",
    "Print the sum of the array's elements as a single integer.\n",
    "\n",
    "Sample Input\n",
    "\n",
    "6\n",
    "1 2 3 4 10 11\n",
    "Sample Output\n",
    "\n",
    "31"
   ]
  },
  {
   "cell_type": "code",
   "execution_count": null,
   "metadata": {
    "collapsed": true
   },
   "outputs": [],
   "source": [
    "n = int(raw_input().strip())\n",
    "arr = map(int,raw_input().strip().split(' '))\n",
    "print sum(arr)"
   ]
  },
  {
   "cell_type": "markdown",
   "metadata": {},
   "source": [
    "## A Very Big Sum"
   ]
  },
  {
   "cell_type": "raw",
   "metadata": {},
   "source": [
    "You are given an array of integers of size NN. You need to print the sum of the elements in the array, keeping in mind that some of those integers may be quite large.\n",
    "\n",
    "Input\n",
    "\n",
    "The first line of the input consists of an integer NN. The next line contains NN space-separated integers contained in the array.\n",
    "\n",
    "Constraints \n",
    "1≤N≤101≤N≤10 \n",
    "0≤A[i]≤10100≤A[i]≤1010\n",
    "\n",
    "Sample Input \n",
    "5\n",
    "1000000001 1000000002 1000000003 1000000004 1000000005\n",
    "\n",
    "Output \n",
    "Print a single value equal to the sum of the elements in the array. In the above sample, you would print 50000000155000000015."
   ]
  },
  {
   "cell_type": "code",
   "execution_count": 15,
   "metadata": {
    "collapsed": false
   },
   "outputs": [
    {
     "name": "stdout",
     "output_type": "stream",
     "text": [
      "2\n",
      "100000001\n",
      "100000001\n"
     ]
    }
   ],
   "source": [
    "import sys\n",
    "\n",
    "\n",
    "n = int(raw_input().strip())\n",
    "arr = map(int,raw_input().strip().split(' '))\n",
    "print sum(arr)"
   ]
  },
  {
   "cell_type": "markdown",
   "metadata": {},
   "source": [
    "## Diagonal Difference"
   ]
  },
  {
   "cell_type": "raw",
   "metadata": {},
   "source": [
    "Given a square matrix of size N×NN×N, calculate the absolute difference between the sums of its diagonals.\n",
    "\n",
    "Input Format\n",
    "\n",
    "The first line contains a single integer, NN. The next NN lines denote the matrix's rows, with each line containing NN space-separated integers describing the columns.\n",
    "\n",
    "Output Format\n",
    "\n",
    "Print the absolute difference between the two sums of the matrix's diagonals as a single integer.\n",
    "\n",
    "Sample Input\n",
    "\n",
    "3\n",
    "11 2 4\n",
    "4 5 6\n",
    "10 8 -12\n",
    "\n",
    "Sample Output\n",
    "15"
   ]
  },
  {
   "cell_type": "code",
   "execution_count": 5,
   "metadata": {
    "collapsed": false
   },
   "outputs": [
    {
     "name": "stdout",
     "output_type": "stream",
     "text": [
      "3\n",
      "11 2 4\n",
      "4 5 6\n",
      "10 8 -12\n"
     ]
    }
   ],
   "source": [
    "n = int(raw_input().strip())\n",
    "a = []\n",
    "for a_i in xrange(n):\n",
    "   a_temp = map(int,raw_input().strip().split(' '))\n",
    "   a.append(a_temp)\n"
   ]
  },
  {
   "cell_type": "code",
   "execution_count": 14,
   "metadata": {
    "collapsed": false
   },
   "outputs": [
    {
     "name": "stdout",
     "output_type": "stream",
     "text": [
      "15\n"
     ]
    }
   ],
   "source": [
    "print abs(sum([a[x][n-x-1] for x in range(n)])-sum([a[x][x] for x in range(n)]))"
   ]
  },
  {
   "cell_type": "markdown",
   "metadata": {},
   "source": [
    "## Plus Minus"
   ]
  },
  {
   "cell_type": "raw",
   "metadata": {},
   "source": [
    "Given an array of integers, calculate which fraction of its elements are positive, which fraction of its elements are negative, and which fraction of its elements are zeroes, respectively. Print the decimal value of each fraction on a new line.\n",
    "\n",
    "Note: This challenge introduces precision problems. The test cases are scaled to six decimal places, though answers with absolute error of up to 10−410−4 are acceptable.\n",
    "\n",
    "Input Format\n",
    "\n",
    "The first line contains an integer, NN, denoting the size of the array. \n",
    "The second line contains NN space-separated integers describing an array of numbers (a0,a1,a2,…,an−1)(a0,a1,a2,…,an−1).\n",
    "\n",
    "Output Format\n",
    "\n",
    "You must print the following 33 lines:\n",
    "\n",
    "A decimal representing of the fraction of positive numbers in the array.\n",
    "A decimal representing of the fraction of negative numbers in the array.\n",
    "A decimal representing of the fraction of zeroes in the array.\n",
    "Sample Input\n",
    "\n",
    "6\n",
    "-4 3 -9 0 4 1         \n",
    "Sample Output\n",
    "\n",
    "0.500000\n",
    "0.333333\n",
    "0.166667"
   ]
  },
  {
   "cell_type": "code",
   "execution_count": 16,
   "metadata": {
    "collapsed": false
   },
   "outputs": [
    {
     "name": "stdout",
     "output_type": "stream",
     "text": [
      "6\n",
      "-4 3 -9 0 4 1\n"
     ]
    }
   ],
   "source": [
    "n = int(raw_input().strip())\n",
    "arr = map(int,raw_input().strip().split(' '))"
   ]
  },
  {
   "cell_type": "code",
   "execution_count": 17,
   "metadata": {
    "collapsed": false
   },
   "outputs": [
    {
     "data": {
      "text/plain": [
       "[-4, 3, -9, 0, 4, 1]"
      ]
     },
     "execution_count": 17,
     "metadata": {},
     "output_type": "execute_result"
    }
   ],
   "source": [
    "arr"
   ]
  },
  {
   "cell_type": "code",
   "execution_count": 23,
   "metadata": {
    "collapsed": false
   },
   "outputs": [
    {
     "name": "stdout",
     "output_type": "stream",
     "text": [
      "0.5\n",
      "0.333333333333\n",
      "0.166666666667\n"
     ]
    }
   ],
   "source": [
    "size = len(arr)\n",
    "neg, zeros, pos = 0, 0, 0\n",
    "\n",
    "for num in arr:\n",
    "    if num < 0:\n",
    "        neg += 1\n",
    "    elif num == 0:\n",
    "        zeros += 1\n",
    "    else:\n",
    "        pos += 1\n",
    "\n",
    "print float(pos)/size \n",
    "print float(neg)/size\n",
    "print float(zeros)/size"
   ]
  },
  {
   "cell_type": "markdown",
   "metadata": {},
   "source": [
    "## Staircase"
   ]
  },
  {
   "cell_type": "raw",
   "metadata": {},
   "source": [
    "Your teacher has given you the task of drawing a staircase structure. Being an expert programmer, you decided to make a program to draw it for you instead. Given the required height, can you print a staircase as shown in the example?\n",
    "\n",
    "Input \n",
    "You are given an integer NN depicting the height of the staircase.\n",
    "\n",
    "Output \n",
    "Print a staircase of height NN that consists of # symbols and spaces. For example for N=6N=6, here's a staircase of that height:\n",
    "\n",
    "     #\n",
    "    ##\n",
    "   ###\n",
    "  ####\n",
    " #####\n",
    "######"
   ]
  },
  {
   "cell_type": "code",
   "execution_count": 30,
   "metadata": {
    "collapsed": false
   },
   "outputs": [
    {
     "name": "stdout",
     "output_type": "stream",
     "text": [
      "7\n",
      "      #\n",
      "     ##\n",
      "    ###\n",
      "   ####\n",
      "  #####\n",
      " ######\n",
      "#######\n"
     ]
    }
   ],
   "source": [
    "n = int(raw_input().strip())\n",
    "\n",
    "for level in range(n):\n",
    "    print ' '*(n-level-1) + '#'*(level+1)"
   ]
  },
  {
   "cell_type": "markdown",
   "metadata": {},
   "source": [
    "## Time conversion"
   ]
  },
  {
   "cell_type": "raw",
   "metadata": {},
   "source": [
    "Given a time in AM/PM format, convert it to military (2424-hour) time.\n",
    "\n",
    "Note: Midnight is 12:00:00AM12:00:00AM on a 1212-hour clock, and 00:00:0000:00:00 on a 2424-hour clock. Noon is 12:00:00PM12:00:00PM on a 1212-hour clock, and 12:00:0012:00:00 on a 2424-hour clock.\n",
    "\n",
    "Input Format\n",
    "\n",
    "A single string containing a time in 1212-hour clock format (i.e.: hh:mm:ssAMhh:mm:ssAM or hh:mm:ssPMhh:mm:ssPM), where 01≤hh≤1201≤hh≤12.\n",
    "\n",
    "Output Format\n",
    "\n",
    "Convert and print the given time in 2424-hour format, where 00≤hh≤2300≤hh≤23.\n",
    "\n",
    "Sample Input\n",
    "\n",
    "07:05:45PM\n",
    "Sample Output\n",
    "\n",
    "19:05:45"
   ]
  },
  {
   "cell_type": "code",
   "execution_count": 71,
   "metadata": {
    "collapsed": false
   },
   "outputs": [
    {
     "name": "stdout",
     "output_type": "stream",
     "text": [
      "11:59:59PM\n"
     ]
    }
   ],
   "source": [
    "time = raw_input().strip()"
   ]
  },
  {
   "cell_type": "code",
   "execution_count": 72,
   "metadata": {
    "collapsed": false
   },
   "outputs": [
    {
     "name": "stdout",
     "output_type": "stream",
     "text": [
      "23:59:59\n"
     ]
    }
   ],
   "source": [
    "hour = int(time[:2])\n",
    "min_sec = time[2:-2]\n",
    "period = time[-2:]\n",
    "\n",
    "\n",
    "if hour == 12 and period == 'AM':\n",
    "    hour = 0\n",
    "\n",
    "# else:\n",
    "\n",
    "elif hour <> 12 and period == 'PM':\n",
    "    hour = hour+12\n",
    "\n",
    "print '{0:02d}'.format(hour) + min_sec"
   ]
  }
 ],
 "metadata": {
  "kernelspec": {
   "display_name": "Python 2",
   "language": "python",
   "name": "python2"
  },
  "language_info": {
   "codemirror_mode": {
    "name": "ipython",
    "version": 2
   },
   "file_extension": ".py",
   "mimetype": "text/x-python",
   "name": "python",
   "nbconvert_exporter": "python",
   "pygments_lexer": "ipython2",
   "version": "2.7.11"
  }
 },
 "nbformat": 4,
 "nbformat_minor": 0
}
