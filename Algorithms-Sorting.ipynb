{
 "cells": [
  {
   "cell_type": "markdown",
   "metadata": {},
   "source": [
    "## Tutorial"
   ]
  },
  {
   "cell_type": "raw",
   "metadata": {},
   "source": [
    "Sample Challenge \n",
    "This is a simple challenge to get things started. Given a sorted array (arar) and a number (VV), can you print the index location of V in the array?\n",
    "\n",
    "Input Format \n",
    "There will be three lines of input:\n",
    "\n",
    "V - the value that has to be searched.\n",
    "n - the size of the array.\n",
    "ar - n numbers that make up the array.\n",
    "\n",
    "Output Format \n",
    "Output the index of VV in the array.\n",
    "\n",
    "Sample Input\n",
    "\n",
    "4\n",
    "6\n",
    "1 4 5 7 9 12\n",
    "Sample Output\n",
    "\n",
    "1"
   ]
  },
  {
   "cell_type": "code",
   "execution_count": 1,
   "metadata": {
    "collapsed": false
   },
   "outputs": [
    {
     "name": "stdout",
     "output_type": "stream",
     "text": [
      "4\n",
      "6\n",
      "1 4 5 7 9 12\n"
     ]
    }
   ],
   "source": [
    "V = int(raw_input())\n",
    "n = int(raw_input())\n",
    "array = [int(d) for d in raw_input().split()]"
   ]
  },
  {
   "cell_type": "code",
   "execution_count": 6,
   "metadata": {
    "collapsed": false
   },
   "outputs": [
    {
     "name": "stdout",
     "output_type": "stream",
     "text": [
      "1\n"
     ]
    }
   ],
   "source": [
    "print array.index(V)"
   ]
  },
  {
   "cell_type": "code",
   "execution_count": null,
   "metadata": {
    "collapsed": true
   },
   "outputs": [],
   "source": []
  }
 ],
 "metadata": {
  "kernelspec": {
   "display_name": "Python 2",
   "language": "python",
   "name": "python2"
  },
  "language_info": {
   "codemirror_mode": {
    "name": "ipython",
    "version": 2
   },
   "file_extension": ".py",
   "mimetype": "text/x-python",
   "name": "python",
   "nbconvert_exporter": "python",
   "pygments_lexer": "ipython2",
   "version": "2.7.11"
  }
 },
 "nbformat": 4,
 "nbformat_minor": 0
}
